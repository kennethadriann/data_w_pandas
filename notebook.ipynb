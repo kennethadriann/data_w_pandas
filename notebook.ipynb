{
 "cells": [
  {
   "cell_type": "code",
   "execution_count": 1,
   "id": "093685ef",
   "metadata": {},
   "outputs": [],
   "source": [
    "import pandas as pd\n",
    "import numpy as np\n",
    "import datetime as dt"
   ]
  },
  {
   "cell_type": "markdown",
   "id": "1bf24998",
   "metadata": {},
   "source": [
    "## RE is the module for regex . "
   ]
  },
  {
   "cell_type": "code",
   "execution_count": 2,
   "id": "67314301",
   "metadata": {},
   "outputs": [],
   "source": [
    "import re"
   ]
  },
  {
   "cell_type": "markdown",
   "id": "8c932fab",
   "metadata": {},
   "source": [
    "## Convert source to dataframe"
   ]
  },
  {
   "cell_type": "code",
   "execution_count": 3,
   "id": "698a840e",
   "metadata": {},
   "outputs": [],
   "source": [
    "df = pd.read_json('code_source.py')"
   ]
  },
  {
   "cell_type": "markdown",
   "id": "efda10fe",
   "metadata": {},
   "source": [
    "Convert string date to datetime "
   ]
  },
  {
   "cell_type": "markdown",
   "id": "90e58acb",
   "metadata": {},
   "source": [
    "## Get price by product"
   ]
  },
  {
   "cell_type": "code",
   "execution_count": 4,
   "id": "f06e70ce",
   "metadata": {},
   "outputs": [],
   "source": [
    "df_prod_price = df"
   ]
  },
  {
   "cell_type": "code",
   "execution_count": 5,
   "id": "e76824e1",
   "metadata": {},
   "outputs": [],
   "source": [
    "df_prod_price = df_prod_price[['transaction_items','transaction_value']]\n",
    "df_prod_price  = df_prod_price.drop_duplicates(subset = ['transaction_items','transaction_value'])\n",
    "df_prod_price['transaction_items']\n",
    "df_prod_price = df_prod_price[~df_prod_price['transaction_items'].str.contains(f\";\")]"
   ]
  },
  {
   "cell_type": "code",
   "execution_count": 6,
   "id": "8776a285",
   "metadata": {},
   "outputs": [],
   "source": [
    "df_prod_price['num'] = df_prod_price['transaction_items'].str.split(',',expand=True)[2]"
   ]
  },
  {
   "cell_type": "code",
   "execution_count": 7,
   "id": "6e71dc28",
   "metadata": {},
   "outputs": [],
   "source": [
    "df_prod_price['transaction_items'] = df_prod_price['transaction_items'].str.split('(',expand=True)[0]"
   ]
  },
  {
   "cell_type": "code",
   "execution_count": 8,
   "id": "867fef79",
   "metadata": {},
   "outputs": [],
   "source": [
    "df_prod_price = df_prod_price[df_prod_price['num'] == '(x1)']"
   ]
  },
  {
   "cell_type": "code",
   "execution_count": 9,
   "id": "626230fb",
   "metadata": {},
   "outputs": [],
   "source": [
    "df_prod_price.rename(columns ={'transaction_items': 'product_name','transaction_value':'price'},inplace=True)"
   ]
  },
  {
   "cell_type": "code",
   "execution_count": null,
   "id": "e73697e0",
   "metadata": {},
   "outputs": [],
   "source": []
  },
  {
   "cell_type": "code",
   "execution_count": 10,
   "id": "b3d6a238",
   "metadata": {},
   "outputs": [],
   "source": [
    "df_prod_price = df_prod_price[['product_name','price']]"
   ]
  },
  {
   "cell_type": "code",
   "execution_count": 11,
   "id": "1c0433e1",
   "metadata": {},
   "outputs": [
    {
     "data": {
      "text/html": [
       "<div>\n",
       "<style scoped>\n",
       "    .dataframe tbody tr th:only-of-type {\n",
       "        vertical-align: middle;\n",
       "    }\n",
       "\n",
       "    .dataframe tbody tr th {\n",
       "        vertical-align: top;\n",
       "    }\n",
       "\n",
       "    .dataframe thead th {\n",
       "        text-align: right;\n",
       "    }\n",
       "</style>\n",
       "<table border=\"1\" class=\"dataframe\">\n",
       "  <thead>\n",
       "    <tr style=\"text-align: right;\">\n",
       "      <th></th>\n",
       "      <th>product_name</th>\n",
       "      <th>price</th>\n",
       "    </tr>\n",
       "  </thead>\n",
       "  <tbody>\n",
       "    <tr>\n",
       "      <th>3</th>\n",
       "      <td>HealthyKid 3+,Yummy Vegetables,</td>\n",
       "      <td>500</td>\n",
       "    </tr>\n",
       "    <tr>\n",
       "      <th>8</th>\n",
       "      <td>Candy City,Gummy Worms,</td>\n",
       "      <td>150</td>\n",
       "    </tr>\n",
       "    <tr>\n",
       "      <th>55</th>\n",
       "      <td>Exotic Extras,Beef Chicharon,</td>\n",
       "      <td>1299</td>\n",
       "    </tr>\n",
       "    <tr>\n",
       "      <th>61</th>\n",
       "      <td>Exotic Extras,Kimchi and Seaweed,</td>\n",
       "      <td>799</td>\n",
       "    </tr>\n",
       "    <tr>\n",
       "      <th>142</th>\n",
       "      <td>Candy City,Orange Beans,</td>\n",
       "      <td>199</td>\n",
       "    </tr>\n",
       "    <tr>\n",
       "      <th>204</th>\n",
       "      <td>HealthyKid 3+,Gummy Vitamins,</td>\n",
       "      <td>1500</td>\n",
       "    </tr>\n",
       "    <tr>\n",
       "      <th>227</th>\n",
       "      <td>HealthyKid 3+,Nutrional Milk,</td>\n",
       "      <td>1990</td>\n",
       "    </tr>\n",
       "  </tbody>\n",
       "</table>\n",
       "</div>"
      ],
      "text/plain": [
       "                          product_name  price\n",
       "3      HealthyKid 3+,Yummy Vegetables,    500\n",
       "8              Candy City,Gummy Worms,    150\n",
       "55       Exotic Extras,Beef Chicharon,   1299\n",
       "61   Exotic Extras,Kimchi and Seaweed,    799\n",
       "142           Candy City,Orange Beans,    199\n",
       "204      HealthyKid 3+,Gummy Vitamins,   1500\n",
       "227      HealthyKid 3+,Nutrional Milk,   1990"
      ]
     },
     "execution_count": 11,
     "metadata": {},
     "output_type": "execute_result"
    }
   ],
   "source": [
    "df_prod_price"
   ]
  },
  {
   "cell_type": "code",
   "execution_count": null,
   "id": "6128bfed",
   "metadata": {},
   "outputs": [],
   "source": []
  },
  {
   "cell_type": "code",
   "execution_count": null,
   "id": "d90d0f9e",
   "metadata": {},
   "outputs": [],
   "source": []
  },
  {
   "cell_type": "code",
   "execution_count": null,
   "id": "547caa43",
   "metadata": {},
   "outputs": [],
   "source": []
  },
  {
   "cell_type": "code",
   "execution_count": null,
   "id": "3439d098",
   "metadata": {},
   "outputs": [],
   "source": []
  },
  {
   "cell_type": "code",
   "execution_count": null,
   "id": "b6955139",
   "metadata": {},
   "outputs": [],
   "source": [
    "# df_prod_price[~df_prod_price['transaction_items'].str.contains(f\";\")]"
   ]
  },
  {
   "cell_type": "code",
   "execution_count": 12,
   "id": "befa8ccb",
   "metadata": {},
   "outputs": [],
   "source": [
    "df['transaction_date'] = pd.to_datetime(df['transaction_date'] )"
   ]
  },
  {
   "cell_type": "code",
   "execution_count": 13,
   "id": "50cf6e72",
   "metadata": {},
   "outputs": [],
   "source": [
    "df['birthdate'] = pd.to_datetime(df['birthdate'] )"
   ]
  },
  {
   "cell_type": "markdown",
   "id": "f0c936bc",
   "metadata": {},
   "source": [
    "check latest date and farthest date of the dataframe"
   ]
  },
  {
   "cell_type": "code",
   "execution_count": 14,
   "id": "318ebee8",
   "metadata": {},
   "outputs": [],
   "source": [
    "df['month'] = df['transaction_date'].dt.month_name()"
   ]
  },
  {
   "cell_type": "code",
   "execution_count": 15,
   "id": "9b20a1ab",
   "metadata": {},
   "outputs": [],
   "source": [
    "df['month_num'] = df['transaction_date'].dt.month"
   ]
  },
  {
   "cell_type": "code",
   "execution_count": 16,
   "id": "f781af93",
   "metadata": {},
   "outputs": [
    {
     "data": {
      "text/plain": [
       "Timestamp('2022-06-30 00:00:00')"
      ]
     },
     "execution_count": 16,
     "metadata": {},
     "output_type": "execute_result"
    }
   ],
   "source": [
    "df['transaction_date'].max()"
   ]
  },
  {
   "cell_type": "code",
   "execution_count": 17,
   "id": "c5b4f674",
   "metadata": {},
   "outputs": [
    {
     "data": {
      "text/plain": [
       "Timestamp('2022-01-01 00:00:00')"
      ]
     },
     "execution_count": 17,
     "metadata": {},
     "output_type": "execute_result"
    }
   ],
   "source": [
    "df['transaction_date'].min()"
   ]
  },
  {
   "cell_type": "code",
   "execution_count": null,
   "id": "da97443b",
   "metadata": {},
   "outputs": [],
   "source": [
    "# list_[1]"
   ]
  },
  {
   "cell_type": "code",
   "execution_count": null,
   "id": "17d69ad8",
   "metadata": {},
   "outputs": [],
   "source": [
    "# inactive_list = df.groupby(['month_num']).username.apply(lambda x: ','.join(x)).fillna('').reset_index().rename({'username': 'previous_list'}, axis=1)"
   ]
  },
  {
   "cell_type": "markdown",
   "id": "52c57a4f",
   "metadata": {},
   "source": [
    "## Transform to Granularity"
   ]
  },
  {
   "cell_type": "markdown",
   "id": "86a27f8c",
   "metadata": {},
   "source": [
    "Assignning the split key for the column transaction_items. \n",
    "\n",
    "The current format is 'HealthyKid 3+,Gummy Vitamins,(x3);HealthyKid 3+,Yummy Vegetables,(x2)'\n",
    "1st step is to split by \";\"\n",
    "2nd step is to split by \",\"\n",
    "and get the value with (x3) for the quantity of each item"
   ]
  },
  {
   "cell_type": "code",
   "execution_count": 18,
   "id": "904cf6f4",
   "metadata": {},
   "outputs": [],
   "source": [
    "df = df.assign(var=df['transaction_items'].str.split(';'))"
   ]
  },
  {
   "cell_type": "markdown",
   "id": "f2d56849",
   "metadata": {},
   "source": [
    "# Convert to Row"
   ]
  },
  {
   "cell_type": "code",
   "execution_count": 19,
   "id": "7b769d69",
   "metadata": {},
   "outputs": [],
   "source": [
    "df = df.explode('var')"
   ]
  },
  {
   "cell_type": "markdown",
   "id": "0cf62a87",
   "metadata": {},
   "source": [
    "# Repeating the same process above "
   ]
  },
  {
   "cell_type": "code",
   "execution_count": 20,
   "id": "ebac5e14",
   "metadata": {},
   "outputs": [
    {
     "name": "stderr",
     "output_type": "stream",
     "text": [
      "C:\\Users\\Kenneth\\AppData\\Local\\Temp\\ipykernel_12384\\3064442970.py:1: FutureWarning: The default value of regex will change from True to False in a future version. In addition, single character regular expressions will *not* be treated as literal strings when regex=True.\n",
      "  df['number_of_purchases'] = df['var'].str.split('(',expand=True)[1].str.replace('x','').str.replace(')','').astype(int)\n"
     ]
    }
   ],
   "source": [
    "df['number_of_purchases'] = df['var'].str.split('(',expand=True)[1].str.replace('x','').str.replace(')','').astype(int)"
   ]
  },
  {
   "cell_type": "code",
   "execution_count": null,
   "id": "4ba8387c",
   "metadata": {},
   "outputs": [],
   "source": [
    "# df = df.assign(var=df['var'].str.split(','))"
   ]
  },
  {
   "cell_type": "markdown",
   "id": "5d3e24fa",
   "metadata": {},
   "source": [
    "After assigning a split key , df.explode converts the assigned key to rows "
   ]
  },
  {
   "cell_type": "code",
   "execution_count": null,
   "id": "554dc0e8",
   "metadata": {},
   "outputs": [],
   "source": [
    "# df = df.explode('var')"
   ]
  },
  {
   "cell_type": "markdown",
   "id": "9b6b89f7",
   "metadata": {},
   "source": [
    "### Remove the frame with value \"\\\\(x\" in rows. it should be in new column"
   ]
  },
  {
   "cell_type": "markdown",
   "id": "c631c775",
   "metadata": {},
   "source": [
    "# rename assign var column to product name"
   ]
  },
  {
   "cell_type": "code",
   "execution_count": 23,
   "id": "c43b73dc",
   "metadata": {},
   "outputs": [],
   "source": [
    "df.rename(columns ={'var': 'product_name'},inplace=True)"
   ]
  },
  {
   "cell_type": "code",
   "execution_count": 24,
   "id": "61305f9e",
   "metadata": {},
   "outputs": [],
   "source": [
    "df['product_name'] = df['product_name'].str.split('(',expand=True)[0]"
   ]
  },
  {
   "cell_type": "code",
   "execution_count": 25,
   "id": "1393ebee",
   "metadata": {},
   "outputs": [
    {
     "data": {
      "text/html": [
       "<div>\n",
       "<style scoped>\n",
       "    .dataframe tbody tr th:only-of-type {\n",
       "        vertical-align: middle;\n",
       "    }\n",
       "\n",
       "    .dataframe tbody tr th {\n",
       "        vertical-align: top;\n",
       "    }\n",
       "\n",
       "    .dataframe thead th {\n",
       "        text-align: right;\n",
       "    }\n",
       "</style>\n",
       "<table border=\"1\" class=\"dataframe\">\n",
       "  <thead>\n",
       "    <tr style=\"text-align: right;\">\n",
       "      <th></th>\n",
       "      <th>address</th>\n",
       "      <th>birthdate</th>\n",
       "      <th>mail</th>\n",
       "      <th>name</th>\n",
       "      <th>sex</th>\n",
       "      <th>username</th>\n",
       "      <th>transaction_items</th>\n",
       "      <th>transaction_value</th>\n",
       "      <th>transaction_date</th>\n",
       "      <th>month</th>\n",
       "      <th>month_num</th>\n",
       "      <th>product_name</th>\n",
       "      <th>number_of_purchases</th>\n",
       "    </tr>\n",
       "  </thead>\n",
       "  <tbody>\n",
       "    <tr>\n",
       "      <th>0</th>\n",
       "      <td>USNS Wagner\\nFPO AE 00917</td>\n",
       "      <td>1926-03-11</td>\n",
       "      <td>watsonbrenda@gmail.com</td>\n",
       "      <td>Jennifer Campbell</td>\n",
       "      <td>F</td>\n",
       "      <td>veronicawells</td>\n",
       "      <td>Exotic Extras,Beef Chicharon,(x4)</td>\n",
       "      <td>5196</td>\n",
       "      <td>2022-01-12</td>\n",
       "      <td>January</td>\n",
       "      <td>1</td>\n",
       "      <td>Exotic Extras,Beef Chicharon,</td>\n",
       "      <td>4</td>\n",
       "    </tr>\n",
       "    <tr>\n",
       "      <th>1</th>\n",
       "      <td>USCGC Benson\\nFPO AP 48794</td>\n",
       "      <td>2016-07-08</td>\n",
       "      <td>moorelisa@gmail.com</td>\n",
       "      <td>Melissa Kim</td>\n",
       "      <td>F</td>\n",
       "      <td>cgilbert</td>\n",
       "      <td>Exotic Extras,Beef Chicharon,(x3);HealthyKid 3...</td>\n",
       "      <td>12056</td>\n",
       "      <td>2022-01-12</td>\n",
       "      <td>January</td>\n",
       "      <td>1</td>\n",
       "      <td>Exotic Extras,Beef Chicharon,</td>\n",
       "      <td>3</td>\n",
       "    </tr>\n",
       "    <tr>\n",
       "      <th>1</th>\n",
       "      <td>USCGC Benson\\nFPO AP 48794</td>\n",
       "      <td>2016-07-08</td>\n",
       "      <td>moorelisa@gmail.com</td>\n",
       "      <td>Melissa Kim</td>\n",
       "      <td>F</td>\n",
       "      <td>cgilbert</td>\n",
       "      <td>Exotic Extras,Beef Chicharon,(x3);HealthyKid 3...</td>\n",
       "      <td>12056</td>\n",
       "      <td>2022-01-12</td>\n",
       "      <td>January</td>\n",
       "      <td>1</td>\n",
       "      <td>HealthyKid 3+,Nutrional Milk,</td>\n",
       "      <td>4</td>\n",
       "    </tr>\n",
       "    <tr>\n",
       "      <th>1</th>\n",
       "      <td>USCGC Benson\\nFPO AP 48794</td>\n",
       "      <td>2016-07-08</td>\n",
       "      <td>moorelisa@gmail.com</td>\n",
       "      <td>Melissa Kim</td>\n",
       "      <td>F</td>\n",
       "      <td>cgilbert</td>\n",
       "      <td>Exotic Extras,Beef Chicharon,(x3);HealthyKid 3...</td>\n",
       "      <td>12056</td>\n",
       "      <td>2022-01-12</td>\n",
       "      <td>January</td>\n",
       "      <td>1</td>\n",
       "      <td>Candy City,Orange Beans,</td>\n",
       "      <td>1</td>\n",
       "    </tr>\n",
       "    <tr>\n",
       "      <th>2</th>\n",
       "      <td>USCGC Benson\\nFPO AP 48794</td>\n",
       "      <td>2016-07-08</td>\n",
       "      <td>moorelisa@gmail.com</td>\n",
       "      <td>Melissa Kim</td>\n",
       "      <td>F</td>\n",
       "      <td>cgilbert</td>\n",
       "      <td>HealthyKid 3+,Gummy Vitamins,(x3);HealthyKid 3...</td>\n",
       "      <td>5500</td>\n",
       "      <td>2022-01-08</td>\n",
       "      <td>January</td>\n",
       "      <td>1</td>\n",
       "      <td>HealthyKid 3+,Gummy Vitamins,</td>\n",
       "      <td>3</td>\n",
       "    </tr>\n",
       "    <tr>\n",
       "      <th>...</th>\n",
       "      <td>...</td>\n",
       "      <td>...</td>\n",
       "      <td>...</td>\n",
       "      <td>...</td>\n",
       "      <td>...</td>\n",
       "      <td>...</td>\n",
       "      <td>...</td>\n",
       "      <td>...</td>\n",
       "      <td>...</td>\n",
       "      <td>...</td>\n",
       "      <td>...</td>\n",
       "      <td>...</td>\n",
       "      <td>...</td>\n",
       "    </tr>\n",
       "    <tr>\n",
       "      <th>77558</th>\n",
       "      <td>99007 Bautista Shoal\\nGonzalezville, NE 86063</td>\n",
       "      <td>1995-05-23</td>\n",
       "      <td>boydmonica@gmail.com</td>\n",
       "      <td>Chase Martin</td>\n",
       "      <td>M</td>\n",
       "      <td>ashleypage</td>\n",
       "      <td>Exotic Extras,Beef Chicharon,(x2)</td>\n",
       "      <td>2598</td>\n",
       "      <td>2022-06-19</td>\n",
       "      <td>June</td>\n",
       "      <td>6</td>\n",
       "      <td>Exotic Extras,Beef Chicharon,</td>\n",
       "      <td>2</td>\n",
       "    </tr>\n",
       "    <tr>\n",
       "      <th>77559</th>\n",
       "      <td>99007 Bautista Shoal\\nGonzalezville, NE 86063</td>\n",
       "      <td>1995-05-23</td>\n",
       "      <td>boydmonica@gmail.com</td>\n",
       "      <td>Chase Martin</td>\n",
       "      <td>M</td>\n",
       "      <td>ashleypage</td>\n",
       "      <td>Exotic Extras,Kimchi and Seaweed,(x2)</td>\n",
       "      <td>1598</td>\n",
       "      <td>2022-06-08</td>\n",
       "      <td>June</td>\n",
       "      <td>6</td>\n",
       "      <td>Exotic Extras,Kimchi and Seaweed,</td>\n",
       "      <td>2</td>\n",
       "    </tr>\n",
       "    <tr>\n",
       "      <th>77560</th>\n",
       "      <td>USNV Donovan\\nFPO AE 77055</td>\n",
       "      <td>1936-07-02</td>\n",
       "      <td>adam41@hotmail.com</td>\n",
       "      <td>Barbara Berger</td>\n",
       "      <td>F</td>\n",
       "      <td>nbrown</td>\n",
       "      <td>Exotic Extras,Beef Chicharon,(x3)</td>\n",
       "      <td>3897</td>\n",
       "      <td>2022-06-19</td>\n",
       "      <td>June</td>\n",
       "      <td>6</td>\n",
       "      <td>Exotic Extras,Beef Chicharon,</td>\n",
       "      <td>3</td>\n",
       "    </tr>\n",
       "    <tr>\n",
       "      <th>77561</th>\n",
       "      <td>422 Bender Crossing\\nSouth Dylanbury, DE 09283</td>\n",
       "      <td>1960-11-12</td>\n",
       "      <td>anna66@gmail.com</td>\n",
       "      <td>Chad Mcdonald</td>\n",
       "      <td>M</td>\n",
       "      <td>jessica09</td>\n",
       "      <td>Exotic Extras,Beef Chicharon,(x1);Candy City,G...</td>\n",
       "      <td>1449</td>\n",
       "      <td>2022-06-26</td>\n",
       "      <td>June</td>\n",
       "      <td>6</td>\n",
       "      <td>Exotic Extras,Beef Chicharon,</td>\n",
       "      <td>1</td>\n",
       "    </tr>\n",
       "    <tr>\n",
       "      <th>77561</th>\n",
       "      <td>422 Bender Crossing\\nSouth Dylanbury, DE 09283</td>\n",
       "      <td>1960-11-12</td>\n",
       "      <td>anna66@gmail.com</td>\n",
       "      <td>Chad Mcdonald</td>\n",
       "      <td>M</td>\n",
       "      <td>jessica09</td>\n",
       "      <td>Exotic Extras,Beef Chicharon,(x1);Candy City,G...</td>\n",
       "      <td>1449</td>\n",
       "      <td>2022-06-26</td>\n",
       "      <td>June</td>\n",
       "      <td>6</td>\n",
       "      <td>Candy City,Gummy Worms,</td>\n",
       "      <td>1</td>\n",
       "    </tr>\n",
       "  </tbody>\n",
       "</table>\n",
       "<p>155190 rows × 13 columns</p>\n",
       "</div>"
      ],
      "text/plain": [
       "                                              address  birthdate  \\\n",
       "0                           USNS Wagner\\nFPO AE 00917 1926-03-11   \n",
       "1                          USCGC Benson\\nFPO AP 48794 2016-07-08   \n",
       "1                          USCGC Benson\\nFPO AP 48794 2016-07-08   \n",
       "1                          USCGC Benson\\nFPO AP 48794 2016-07-08   \n",
       "2                          USCGC Benson\\nFPO AP 48794 2016-07-08   \n",
       "...                                               ...        ...   \n",
       "77558   99007 Bautista Shoal\\nGonzalezville, NE 86063 1995-05-23   \n",
       "77559   99007 Bautista Shoal\\nGonzalezville, NE 86063 1995-05-23   \n",
       "77560                      USNV Donovan\\nFPO AE 77055 1936-07-02   \n",
       "77561  422 Bender Crossing\\nSouth Dylanbury, DE 09283 1960-11-12   \n",
       "77561  422 Bender Crossing\\nSouth Dylanbury, DE 09283 1960-11-12   \n",
       "\n",
       "                         mail               name sex       username  \\\n",
       "0      watsonbrenda@gmail.com  Jennifer Campbell   F  veronicawells   \n",
       "1         moorelisa@gmail.com        Melissa Kim   F       cgilbert   \n",
       "1         moorelisa@gmail.com        Melissa Kim   F       cgilbert   \n",
       "1         moorelisa@gmail.com        Melissa Kim   F       cgilbert   \n",
       "2         moorelisa@gmail.com        Melissa Kim   F       cgilbert   \n",
       "...                       ...                ...  ..            ...   \n",
       "77558    boydmonica@gmail.com       Chase Martin   M     ashleypage   \n",
       "77559    boydmonica@gmail.com       Chase Martin   M     ashleypage   \n",
       "77560      adam41@hotmail.com     Barbara Berger   F         nbrown   \n",
       "77561        anna66@gmail.com      Chad Mcdonald   M      jessica09   \n",
       "77561        anna66@gmail.com      Chad Mcdonald   M      jessica09   \n",
       "\n",
       "                                       transaction_items  transaction_value  \\\n",
       "0                      Exotic Extras,Beef Chicharon,(x4)               5196   \n",
       "1      Exotic Extras,Beef Chicharon,(x3);HealthyKid 3...              12056   \n",
       "1      Exotic Extras,Beef Chicharon,(x3);HealthyKid 3...              12056   \n",
       "1      Exotic Extras,Beef Chicharon,(x3);HealthyKid 3...              12056   \n",
       "2      HealthyKid 3+,Gummy Vitamins,(x3);HealthyKid 3...               5500   \n",
       "...                                                  ...                ...   \n",
       "77558                  Exotic Extras,Beef Chicharon,(x2)               2598   \n",
       "77559              Exotic Extras,Kimchi and Seaweed,(x2)               1598   \n",
       "77560                  Exotic Extras,Beef Chicharon,(x3)               3897   \n",
       "77561  Exotic Extras,Beef Chicharon,(x1);Candy City,G...               1449   \n",
       "77561  Exotic Extras,Beef Chicharon,(x1);Candy City,G...               1449   \n",
       "\n",
       "      transaction_date    month  month_num                       product_name  \\\n",
       "0           2022-01-12  January          1      Exotic Extras,Beef Chicharon,   \n",
       "1           2022-01-12  January          1      Exotic Extras,Beef Chicharon,   \n",
       "1           2022-01-12  January          1      HealthyKid 3+,Nutrional Milk,   \n",
       "1           2022-01-12  January          1           Candy City,Orange Beans,   \n",
       "2           2022-01-08  January          1      HealthyKid 3+,Gummy Vitamins,   \n",
       "...                ...      ...        ...                                ...   \n",
       "77558       2022-06-19     June          6      Exotic Extras,Beef Chicharon,   \n",
       "77559       2022-06-08     June          6  Exotic Extras,Kimchi and Seaweed,   \n",
       "77560       2022-06-19     June          6      Exotic Extras,Beef Chicharon,   \n",
       "77561       2022-06-26     June          6      Exotic Extras,Beef Chicharon,   \n",
       "77561       2022-06-26     June          6            Candy City,Gummy Worms,   \n",
       "\n",
       "       number_of_purchases  \n",
       "0                        4  \n",
       "1                        3  \n",
       "1                        4  \n",
       "1                        1  \n",
       "2                        3  \n",
       "...                    ...  \n",
       "77558                    2  \n",
       "77559                    2  \n",
       "77560                    3  \n",
       "77561                    1  \n",
       "77561                    1  \n",
       "\n",
       "[155190 rows x 13 columns]"
      ]
     },
     "execution_count": 25,
     "metadata": {},
     "output_type": "execute_result"
    }
   ],
   "source": [
    "df"
   ]
  },
  {
   "cell_type": "markdown",
   "id": "b946d367",
   "metadata": {},
   "source": [
    "### Number of Purchases by Product"
   ]
  },
  {
   "cell_type": "markdown",
   "id": "1b0e9f5a",
   "metadata": {},
   "source": [
    " We used the group by to get the summarize number of transactions per month.  Group by in python is like group by in sql"
   ]
  },
  {
   "cell_type": "code",
   "execution_count": 26,
   "id": "4fbffb9c",
   "metadata": {},
   "outputs": [
    {
     "data": {
      "text/plain": [
       "Index(['address', 'birthdate', 'mail', 'name', 'sex', 'username',\n",
       "       'transaction_items', 'transaction_value', 'transaction_date', 'month',\n",
       "       'month_num', 'product_name', 'number_of_purchases'],\n",
       "      dtype='object')"
      ]
     },
     "execution_count": 26,
     "metadata": {},
     "output_type": "execute_result"
    }
   ],
   "source": [
    "df.columns"
   ]
  },
  {
   "cell_type": "code",
   "execution_count": 27,
   "id": "5d68797c",
   "metadata": {
    "scrolled": true
   },
   "outputs": [],
   "source": [
    "df_by_product = df.groupby(['month_num','month','product_name'])['number_of_purchases'].sum().reset_index().sort_values(['month_num','number_of_purchases'],axis=0,ascending= False)"
   ]
  },
  {
   "cell_type": "markdown",
   "id": "34273919",
   "metadata": {},
   "source": [
    "Another group by to get the overall number of purchase by month "
   ]
  },
  {
   "cell_type": "code",
   "execution_count": 28,
   "id": "e46d6d45",
   "metadata": {},
   "outputs": [],
   "source": [
    "df_by_product = df_by_product.merge(df_prod_price,on=['product_name'],how='left')\n",
    "#product_price - yung table ng per product and price , dapat same format ng product name "
   ]
  },
  {
   "cell_type": "code",
   "execution_count": 29,
   "id": "9e6d782a",
   "metadata": {},
   "outputs": [],
   "source": [
    "df_by_product['total_amount'] = df_by_product['price'] * df_by_product['number_of_purchases']\n",
    "#paggawa new column"
   ]
  },
  {
   "cell_type": "code",
   "execution_count": 30,
   "id": "4e06cb58",
   "metadata": {},
   "outputs": [],
   "source": [
    "df_by_product['total_amount'] = df_by_product['total_amount'].astype(float)"
   ]
  },
  {
   "cell_type": "code",
   "execution_count": 31,
   "id": "a4f4765a",
   "metadata": {},
   "outputs": [
    {
     "data": {
      "text/html": [
       "<div>\n",
       "<style scoped>\n",
       "    .dataframe tbody tr th:only-of-type {\n",
       "        vertical-align: middle;\n",
       "    }\n",
       "\n",
       "    .dataframe tbody tr th {\n",
       "        vertical-align: top;\n",
       "    }\n",
       "\n",
       "    .dataframe thead th {\n",
       "        text-align: right;\n",
       "    }\n",
       "</style>\n",
       "<table border=\"1\" class=\"dataframe\">\n",
       "  <thead>\n",
       "    <tr style=\"text-align: right;\">\n",
       "      <th></th>\n",
       "      <th>month_num</th>\n",
       "      <th>month</th>\n",
       "      <th>product_name</th>\n",
       "      <th>number_of_purchases</th>\n",
       "      <th>price</th>\n",
       "      <th>total_amount</th>\n",
       "    </tr>\n",
       "  </thead>\n",
       "  <tbody>\n",
       "    <tr>\n",
       "      <th>0</th>\n",
       "      <td>6</td>\n",
       "      <td>June</td>\n",
       "      <td>Candy City,Orange Beans,</td>\n",
       "      <td>6216</td>\n",
       "      <td>199</td>\n",
       "      <td>1236984.0</td>\n",
       "    </tr>\n",
       "    <tr>\n",
       "      <th>1</th>\n",
       "      <td>6</td>\n",
       "      <td>June</td>\n",
       "      <td>Exotic Extras,Beef Chicharon,</td>\n",
       "      <td>6159</td>\n",
       "      <td>1299</td>\n",
       "      <td>8000541.0</td>\n",
       "    </tr>\n",
       "    <tr>\n",
       "      <th>2</th>\n",
       "      <td>6</td>\n",
       "      <td>June</td>\n",
       "      <td>Exotic Extras,Kimchi and Seaweed,</td>\n",
       "      <td>6037</td>\n",
       "      <td>799</td>\n",
       "      <td>4823563.0</td>\n",
       "    </tr>\n",
       "    <tr>\n",
       "      <th>3</th>\n",
       "      <td>6</td>\n",
       "      <td>June</td>\n",
       "      <td>HealthyKid 3+,Gummy Vitamins,</td>\n",
       "      <td>5990</td>\n",
       "      <td>1500</td>\n",
       "      <td>8985000.0</td>\n",
       "    </tr>\n",
       "    <tr>\n",
       "      <th>4</th>\n",
       "      <td>6</td>\n",
       "      <td>June</td>\n",
       "      <td>HealthyKid 3+,Yummy Vegetables,</td>\n",
       "      <td>5892</td>\n",
       "      <td>500</td>\n",
       "      <td>2946000.0</td>\n",
       "    </tr>\n",
       "    <tr>\n",
       "      <th>5</th>\n",
       "      <td>6</td>\n",
       "      <td>June</td>\n",
       "      <td>Candy City,Gummy Worms,</td>\n",
       "      <td>5880</td>\n",
       "      <td>150</td>\n",
       "      <td>882000.0</td>\n",
       "    </tr>\n",
       "    <tr>\n",
       "      <th>6</th>\n",
       "      <td>6</td>\n",
       "      <td>June</td>\n",
       "      <td>HealthyKid 3+,Nutrional Milk,</td>\n",
       "      <td>5862</td>\n",
       "      <td>1990</td>\n",
       "      <td>11665380.0</td>\n",
       "    </tr>\n",
       "    <tr>\n",
       "      <th>7</th>\n",
       "      <td>5</td>\n",
       "      <td>May</td>\n",
       "      <td>Exotic Extras,Beef Chicharon,</td>\n",
       "      <td>10028</td>\n",
       "      <td>1299</td>\n",
       "      <td>13026372.0</td>\n",
       "    </tr>\n",
       "    <tr>\n",
       "      <th>8</th>\n",
       "      <td>5</td>\n",
       "      <td>May</td>\n",
       "      <td>Candy City,Orange Beans,</td>\n",
       "      <td>9964</td>\n",
       "      <td>199</td>\n",
       "      <td>1982836.0</td>\n",
       "    </tr>\n",
       "    <tr>\n",
       "      <th>9</th>\n",
       "      <td>5</td>\n",
       "      <td>May</td>\n",
       "      <td>HealthyKid 3+,Gummy Vitamins,</td>\n",
       "      <td>9948</td>\n",
       "      <td>1500</td>\n",
       "      <td>14922000.0</td>\n",
       "    </tr>\n",
       "    <tr>\n",
       "      <th>10</th>\n",
       "      <td>5</td>\n",
       "      <td>May</td>\n",
       "      <td>HealthyKid 3+,Nutrional Milk,</td>\n",
       "      <td>9881</td>\n",
       "      <td>1990</td>\n",
       "      <td>19663190.0</td>\n",
       "    </tr>\n",
       "    <tr>\n",
       "      <th>11</th>\n",
       "      <td>5</td>\n",
       "      <td>May</td>\n",
       "      <td>Candy City,Gummy Worms,</td>\n",
       "      <td>9801</td>\n",
       "      <td>150</td>\n",
       "      <td>1470150.0</td>\n",
       "    </tr>\n",
       "    <tr>\n",
       "      <th>12</th>\n",
       "      <td>5</td>\n",
       "      <td>May</td>\n",
       "      <td>Exotic Extras,Kimchi and Seaweed,</td>\n",
       "      <td>9773</td>\n",
       "      <td>799</td>\n",
       "      <td>7808627.0</td>\n",
       "    </tr>\n",
       "    <tr>\n",
       "      <th>13</th>\n",
       "      <td>5</td>\n",
       "      <td>May</td>\n",
       "      <td>HealthyKid 3+,Yummy Vegetables,</td>\n",
       "      <td>9735</td>\n",
       "      <td>500</td>\n",
       "      <td>4867500.0</td>\n",
       "    </tr>\n",
       "    <tr>\n",
       "      <th>14</th>\n",
       "      <td>4</td>\n",
       "      <td>April</td>\n",
       "      <td>Candy City,Gummy Worms,</td>\n",
       "      <td>10043</td>\n",
       "      <td>150</td>\n",
       "      <td>1506450.0</td>\n",
       "    </tr>\n",
       "    <tr>\n",
       "      <th>15</th>\n",
       "      <td>4</td>\n",
       "      <td>April</td>\n",
       "      <td>Exotic Extras,Kimchi and Seaweed,</td>\n",
       "      <td>9921</td>\n",
       "      <td>799</td>\n",
       "      <td>7926879.0</td>\n",
       "    </tr>\n",
       "    <tr>\n",
       "      <th>16</th>\n",
       "      <td>4</td>\n",
       "      <td>April</td>\n",
       "      <td>Candy City,Orange Beans,</td>\n",
       "      <td>9914</td>\n",
       "      <td>199</td>\n",
       "      <td>1972886.0</td>\n",
       "    </tr>\n",
       "    <tr>\n",
       "      <th>17</th>\n",
       "      <td>4</td>\n",
       "      <td>April</td>\n",
       "      <td>Exotic Extras,Beef Chicharon,</td>\n",
       "      <td>9890</td>\n",
       "      <td>1299</td>\n",
       "      <td>12847110.0</td>\n",
       "    </tr>\n",
       "    <tr>\n",
       "      <th>18</th>\n",
       "      <td>4</td>\n",
       "      <td>April</td>\n",
       "      <td>HealthyKid 3+,Yummy Vegetables,</td>\n",
       "      <td>9861</td>\n",
       "      <td>500</td>\n",
       "      <td>4930500.0</td>\n",
       "    </tr>\n",
       "    <tr>\n",
       "      <th>19</th>\n",
       "      <td>4</td>\n",
       "      <td>April</td>\n",
       "      <td>HealthyKid 3+,Gummy Vitamins,</td>\n",
       "      <td>9842</td>\n",
       "      <td>1500</td>\n",
       "      <td>14763000.0</td>\n",
       "    </tr>\n",
       "    <tr>\n",
       "      <th>20</th>\n",
       "      <td>4</td>\n",
       "      <td>April</td>\n",
       "      <td>HealthyKid 3+,Nutrional Milk,</td>\n",
       "      <td>9786</td>\n",
       "      <td>1990</td>\n",
       "      <td>19474140.0</td>\n",
       "    </tr>\n",
       "    <tr>\n",
       "      <th>21</th>\n",
       "      <td>3</td>\n",
       "      <td>March</td>\n",
       "      <td>HealthyKid 3+,Gummy Vitamins,</td>\n",
       "      <td>10145</td>\n",
       "      <td>1500</td>\n",
       "      <td>15217500.0</td>\n",
       "    </tr>\n",
       "    <tr>\n",
       "      <th>22</th>\n",
       "      <td>3</td>\n",
       "      <td>March</td>\n",
       "      <td>Candy City,Gummy Worms,</td>\n",
       "      <td>9986</td>\n",
       "      <td>150</td>\n",
       "      <td>1497900.0</td>\n",
       "    </tr>\n",
       "    <tr>\n",
       "      <th>23</th>\n",
       "      <td>3</td>\n",
       "      <td>March</td>\n",
       "      <td>Exotic Extras,Kimchi and Seaweed,</td>\n",
       "      <td>9967</td>\n",
       "      <td>799</td>\n",
       "      <td>7963633.0</td>\n",
       "    </tr>\n",
       "    <tr>\n",
       "      <th>24</th>\n",
       "      <td>3</td>\n",
       "      <td>March</td>\n",
       "      <td>HealthyKid 3+,Yummy Vegetables,</td>\n",
       "      <td>9896</td>\n",
       "      <td>500</td>\n",
       "      <td>4948000.0</td>\n",
       "    </tr>\n",
       "    <tr>\n",
       "      <th>25</th>\n",
       "      <td>3</td>\n",
       "      <td>March</td>\n",
       "      <td>HealthyKid 3+,Nutrional Milk,</td>\n",
       "      <td>9876</td>\n",
       "      <td>1990</td>\n",
       "      <td>19653240.0</td>\n",
       "    </tr>\n",
       "    <tr>\n",
       "      <th>26</th>\n",
       "      <td>3</td>\n",
       "      <td>March</td>\n",
       "      <td>Exotic Extras,Beef Chicharon,</td>\n",
       "      <td>9816</td>\n",
       "      <td>1299</td>\n",
       "      <td>12750984.0</td>\n",
       "    </tr>\n",
       "    <tr>\n",
       "      <th>27</th>\n",
       "      <td>3</td>\n",
       "      <td>March</td>\n",
       "      <td>Candy City,Orange Beans,</td>\n",
       "      <td>9611</td>\n",
       "      <td>199</td>\n",
       "      <td>1912589.0</td>\n",
       "    </tr>\n",
       "    <tr>\n",
       "      <th>28</th>\n",
       "      <td>2</td>\n",
       "      <td>February</td>\n",
       "      <td>HealthyKid 3+,Yummy Vegetables,</td>\n",
       "      <td>10256</td>\n",
       "      <td>500</td>\n",
       "      <td>5128000.0</td>\n",
       "    </tr>\n",
       "    <tr>\n",
       "      <th>29</th>\n",
       "      <td>2</td>\n",
       "      <td>February</td>\n",
       "      <td>Candy City,Orange Beans,</td>\n",
       "      <td>10037</td>\n",
       "      <td>199</td>\n",
       "      <td>1997363.0</td>\n",
       "    </tr>\n",
       "    <tr>\n",
       "      <th>30</th>\n",
       "      <td>2</td>\n",
       "      <td>February</td>\n",
       "      <td>Exotic Extras,Beef Chicharon,</td>\n",
       "      <td>10001</td>\n",
       "      <td>1299</td>\n",
       "      <td>12991299.0</td>\n",
       "    </tr>\n",
       "    <tr>\n",
       "      <th>31</th>\n",
       "      <td>2</td>\n",
       "      <td>February</td>\n",
       "      <td>Candy City,Gummy Worms,</td>\n",
       "      <td>9996</td>\n",
       "      <td>150</td>\n",
       "      <td>1499400.0</td>\n",
       "    </tr>\n",
       "    <tr>\n",
       "      <th>32</th>\n",
       "      <td>2</td>\n",
       "      <td>February</td>\n",
       "      <td>HealthyKid 3+,Gummy Vitamins,</td>\n",
       "      <td>9980</td>\n",
       "      <td>1500</td>\n",
       "      <td>14970000.0</td>\n",
       "    </tr>\n",
       "    <tr>\n",
       "      <th>33</th>\n",
       "      <td>2</td>\n",
       "      <td>February</td>\n",
       "      <td>Exotic Extras,Kimchi and Seaweed,</td>\n",
       "      <td>9949</td>\n",
       "      <td>799</td>\n",
       "      <td>7949251.0</td>\n",
       "    </tr>\n",
       "    <tr>\n",
       "      <th>34</th>\n",
       "      <td>2</td>\n",
       "      <td>February</td>\n",
       "      <td>HealthyKid 3+,Nutrional Milk,</td>\n",
       "      <td>9691</td>\n",
       "      <td>1990</td>\n",
       "      <td>19285090.0</td>\n",
       "    </tr>\n",
       "    <tr>\n",
       "      <th>35</th>\n",
       "      <td>1</td>\n",
       "      <td>January</td>\n",
       "      <td>HealthyKid 3+,Yummy Vegetables,</td>\n",
       "      <td>9959</td>\n",
       "      <td>500</td>\n",
       "      <td>4979500.0</td>\n",
       "    </tr>\n",
       "    <tr>\n",
       "      <th>36</th>\n",
       "      <td>1</td>\n",
       "      <td>January</td>\n",
       "      <td>Candy City,Orange Beans,</td>\n",
       "      <td>9774</td>\n",
       "      <td>199</td>\n",
       "      <td>1945026.0</td>\n",
       "    </tr>\n",
       "    <tr>\n",
       "      <th>37</th>\n",
       "      <td>1</td>\n",
       "      <td>January</td>\n",
       "      <td>HealthyKid 3+,Nutrional Milk,</td>\n",
       "      <td>9727</td>\n",
       "      <td>1990</td>\n",
       "      <td>19356730.0</td>\n",
       "    </tr>\n",
       "    <tr>\n",
       "      <th>38</th>\n",
       "      <td>1</td>\n",
       "      <td>January</td>\n",
       "      <td>HealthyKid 3+,Gummy Vitamins,</td>\n",
       "      <td>9681</td>\n",
       "      <td>1500</td>\n",
       "      <td>14521500.0</td>\n",
       "    </tr>\n",
       "    <tr>\n",
       "      <th>39</th>\n",
       "      <td>1</td>\n",
       "      <td>January</td>\n",
       "      <td>Exotic Extras,Kimchi and Seaweed,</td>\n",
       "      <td>9676</td>\n",
       "      <td>799</td>\n",
       "      <td>7731124.0</td>\n",
       "    </tr>\n",
       "    <tr>\n",
       "      <th>40</th>\n",
       "      <td>1</td>\n",
       "      <td>January</td>\n",
       "      <td>Exotic Extras,Beef Chicharon,</td>\n",
       "      <td>9665</td>\n",
       "      <td>1299</td>\n",
       "      <td>12554835.0</td>\n",
       "    </tr>\n",
       "    <tr>\n",
       "      <th>41</th>\n",
       "      <td>1</td>\n",
       "      <td>January</td>\n",
       "      <td>Candy City,Gummy Worms,</td>\n",
       "      <td>9559</td>\n",
       "      <td>150</td>\n",
       "      <td>1433850.0</td>\n",
       "    </tr>\n",
       "  </tbody>\n",
       "</table>\n",
       "</div>"
      ],
      "text/plain": [
       "    month_num     month                       product_name  \\\n",
       "0           6      June           Candy City,Orange Beans,   \n",
       "1           6      June      Exotic Extras,Beef Chicharon,   \n",
       "2           6      June  Exotic Extras,Kimchi and Seaweed,   \n",
       "3           6      June      HealthyKid 3+,Gummy Vitamins,   \n",
       "4           6      June    HealthyKid 3+,Yummy Vegetables,   \n",
       "5           6      June            Candy City,Gummy Worms,   \n",
       "6           6      June      HealthyKid 3+,Nutrional Milk,   \n",
       "7           5       May      Exotic Extras,Beef Chicharon,   \n",
       "8           5       May           Candy City,Orange Beans,   \n",
       "9           5       May      HealthyKid 3+,Gummy Vitamins,   \n",
       "10          5       May      HealthyKid 3+,Nutrional Milk,   \n",
       "11          5       May            Candy City,Gummy Worms,   \n",
       "12          5       May  Exotic Extras,Kimchi and Seaweed,   \n",
       "13          5       May    HealthyKid 3+,Yummy Vegetables,   \n",
       "14          4     April            Candy City,Gummy Worms,   \n",
       "15          4     April  Exotic Extras,Kimchi and Seaweed,   \n",
       "16          4     April           Candy City,Orange Beans,   \n",
       "17          4     April      Exotic Extras,Beef Chicharon,   \n",
       "18          4     April    HealthyKid 3+,Yummy Vegetables,   \n",
       "19          4     April      HealthyKid 3+,Gummy Vitamins,   \n",
       "20          4     April      HealthyKid 3+,Nutrional Milk,   \n",
       "21          3     March      HealthyKid 3+,Gummy Vitamins,   \n",
       "22          3     March            Candy City,Gummy Worms,   \n",
       "23          3     March  Exotic Extras,Kimchi and Seaweed,   \n",
       "24          3     March    HealthyKid 3+,Yummy Vegetables,   \n",
       "25          3     March      HealthyKid 3+,Nutrional Milk,   \n",
       "26          3     March      Exotic Extras,Beef Chicharon,   \n",
       "27          3     March           Candy City,Orange Beans,   \n",
       "28          2  February    HealthyKid 3+,Yummy Vegetables,   \n",
       "29          2  February           Candy City,Orange Beans,   \n",
       "30          2  February      Exotic Extras,Beef Chicharon,   \n",
       "31          2  February            Candy City,Gummy Worms,   \n",
       "32          2  February      HealthyKid 3+,Gummy Vitamins,   \n",
       "33          2  February  Exotic Extras,Kimchi and Seaweed,   \n",
       "34          2  February      HealthyKid 3+,Nutrional Milk,   \n",
       "35          1   January    HealthyKid 3+,Yummy Vegetables,   \n",
       "36          1   January           Candy City,Orange Beans,   \n",
       "37          1   January      HealthyKid 3+,Nutrional Milk,   \n",
       "38          1   January      HealthyKid 3+,Gummy Vitamins,   \n",
       "39          1   January  Exotic Extras,Kimchi and Seaweed,   \n",
       "40          1   January      Exotic Extras,Beef Chicharon,   \n",
       "41          1   January            Candy City,Gummy Worms,   \n",
       "\n",
       "    number_of_purchases  price  total_amount  \n",
       "0                  6216    199     1236984.0  \n",
       "1                  6159   1299     8000541.0  \n",
       "2                  6037    799     4823563.0  \n",
       "3                  5990   1500     8985000.0  \n",
       "4                  5892    500     2946000.0  \n",
       "5                  5880    150      882000.0  \n",
       "6                  5862   1990    11665380.0  \n",
       "7                 10028   1299    13026372.0  \n",
       "8                  9964    199     1982836.0  \n",
       "9                  9948   1500    14922000.0  \n",
       "10                 9881   1990    19663190.0  \n",
       "11                 9801    150     1470150.0  \n",
       "12                 9773    799     7808627.0  \n",
       "13                 9735    500     4867500.0  \n",
       "14                10043    150     1506450.0  \n",
       "15                 9921    799     7926879.0  \n",
       "16                 9914    199     1972886.0  \n",
       "17                 9890   1299    12847110.0  \n",
       "18                 9861    500     4930500.0  \n",
       "19                 9842   1500    14763000.0  \n",
       "20                 9786   1990    19474140.0  \n",
       "21                10145   1500    15217500.0  \n",
       "22                 9986    150     1497900.0  \n",
       "23                 9967    799     7963633.0  \n",
       "24                 9896    500     4948000.0  \n",
       "25                 9876   1990    19653240.0  \n",
       "26                 9816   1299    12750984.0  \n",
       "27                 9611    199     1912589.0  \n",
       "28                10256    500     5128000.0  \n",
       "29                10037    199     1997363.0  \n",
       "30                10001   1299    12991299.0  \n",
       "31                 9996    150     1499400.0  \n",
       "32                 9980   1500    14970000.0  \n",
       "33                 9949    799     7949251.0  \n",
       "34                 9691   1990    19285090.0  \n",
       "35                 9959    500     4979500.0  \n",
       "36                 9774    199     1945026.0  \n",
       "37                 9727   1990    19356730.0  \n",
       "38                 9681   1500    14521500.0  \n",
       "39                 9676    799     7731124.0  \n",
       "40                 9665   1299    12554835.0  \n",
       "41                 9559    150     1433850.0  "
      ]
     },
     "execution_count": 31,
     "metadata": {},
     "output_type": "execute_result"
    }
   ],
   "source": [
    "df_by_product"
   ]
  },
  {
   "cell_type": "code",
   "execution_count": null,
   "id": "e3b4d352",
   "metadata": {},
   "outputs": [],
   "source": [
    "print(df_by_product)"
   ]
  },
  {
   "cell_type": "code",
   "execution_count": 32,
   "id": "ef47bc9d",
   "metadata": {},
   "outputs": [],
   "source": [
    "monthly_count_purchases = df_by_product.groupby(['month_num'])['number_of_purchases'].sum().reset_index()"
   ]
  },
  {
   "cell_type": "code",
   "execution_count": 33,
   "id": "47930e17",
   "metadata": {},
   "outputs": [
    {
     "data": {
      "text/html": [
       "<div>\n",
       "<style scoped>\n",
       "    .dataframe tbody tr th:only-of-type {\n",
       "        vertical-align: middle;\n",
       "    }\n",
       "\n",
       "    .dataframe tbody tr th {\n",
       "        vertical-align: top;\n",
       "    }\n",
       "\n",
       "    .dataframe thead th {\n",
       "        text-align: right;\n",
       "    }\n",
       "</style>\n",
       "<table border=\"1\" class=\"dataframe\">\n",
       "  <thead>\n",
       "    <tr style=\"text-align: right;\">\n",
       "      <th></th>\n",
       "      <th>month_num</th>\n",
       "      <th>number_of_purchases</th>\n",
       "    </tr>\n",
       "  </thead>\n",
       "  <tbody>\n",
       "    <tr>\n",
       "      <th>0</th>\n",
       "      <td>1</td>\n",
       "      <td>68041</td>\n",
       "    </tr>\n",
       "    <tr>\n",
       "      <th>1</th>\n",
       "      <td>2</td>\n",
       "      <td>69910</td>\n",
       "    </tr>\n",
       "    <tr>\n",
       "      <th>2</th>\n",
       "      <td>3</td>\n",
       "      <td>69297</td>\n",
       "    </tr>\n",
       "    <tr>\n",
       "      <th>3</th>\n",
       "      <td>4</td>\n",
       "      <td>69257</td>\n",
       "    </tr>\n",
       "    <tr>\n",
       "      <th>4</th>\n",
       "      <td>5</td>\n",
       "      <td>69130</td>\n",
       "    </tr>\n",
       "    <tr>\n",
       "      <th>5</th>\n",
       "      <td>6</td>\n",
       "      <td>42036</td>\n",
       "    </tr>\n",
       "  </tbody>\n",
       "</table>\n",
       "</div>"
      ],
      "text/plain": [
       "   month_num  number_of_purchases\n",
       "0          1                68041\n",
       "1          2                69910\n",
       "2          3                69297\n",
       "3          4                69257\n",
       "4          5                69130\n",
       "5          6                42036"
      ]
     },
     "execution_count": 33,
     "metadata": {},
     "output_type": "execute_result"
    }
   ],
   "source": [
    "monthly_count_purchases"
   ]
  },
  {
   "cell_type": "markdown",
   "id": "f9b47792",
   "metadata": {},
   "source": [
    "For the transaction value we have to drop the duplicates by transaction date and username, Since we converted the current data to rows. It creates duplicates in trasaction value. The granular Table we made is only applicable to the number of purchases . "
   ]
  },
  {
   "cell_type": "code",
   "execution_count": 34,
   "id": "2699c9ef",
   "metadata": {},
   "outputs": [],
   "source": [
    "monthly_numbers = df.drop_duplicates(subset = ['transaction_date','username'])"
   ]
  },
  {
   "cell_type": "markdown",
   "id": "89d3599c",
   "metadata": {},
   "source": [
    "Group by month to get the transaction value by month. "
   ]
  },
  {
   "cell_type": "code",
   "execution_count": 35,
   "id": "f45fa6fe",
   "metadata": {},
   "outputs": [],
   "source": [
    "monthly_numbers = monthly_numbers.groupby(['month','month_num'])['transaction_value'].sum().reset_index().sort_values(['month_num','transaction_value'],ascending=False)"
   ]
  },
  {
   "cell_type": "code",
   "execution_count": 36,
   "id": "a68d8c06",
   "metadata": {},
   "outputs": [],
   "source": [
    "monthly_numbers = monthly_numbers.merge( monthly_count_purchases, how='left', on='month_num')"
   ]
  },
  {
   "cell_type": "markdown",
   "id": "22b607a9",
   "metadata": {},
   "source": [
    " Converted the data type of transaction value to float to show decimals"
   ]
  },
  {
   "cell_type": "code",
   "execution_count": 37,
   "id": "9ab2319f",
   "metadata": {},
   "outputs": [],
   "source": [
    "monthly_numbers['transaction_value'] = monthly_numbers['transaction_value'].astype(float)"
   ]
  },
  {
   "cell_type": "code",
   "execution_count": null,
   "id": "5f5a111e",
   "metadata": {},
   "outputs": [],
   "source": []
  },
  {
   "cell_type": "markdown",
   "id": "179400b0",
   "metadata": {},
   "source": [
    "# Monthly Numbers"
   ]
  },
  {
   "cell_type": "code",
   "execution_count": null,
   "id": "674cff05",
   "metadata": {},
   "outputs": [],
   "source": [
    "monthly_numbers"
   ]
  },
  {
   "cell_type": "markdown",
   "id": "c48c1415",
   "metadata": {},
   "source": [
    "## Monthly Repeater"
   ]
  },
  {
   "cell_type": "markdown",
   "id": "4b6b84cc",
   "metadata": {},
   "source": [
    "1st We group by the data by month and  convert all the username to a single row by by applying lambda x.join()\n",
    "2nd The shift(1) , it shifts the value of the month by 1 . "
   ]
  },
  {
   "cell_type": "code",
   "execution_count": 38,
   "id": "5a8cbc02",
   "metadata": {},
   "outputs": [],
   "source": [
    "previous_month_list = df.groupby(['month_num']).username.apply(lambda x: ','.join(x)).shift(1).fillna('').reset_index().rename({'username': 'previous_list'}, axis=1)\n"
   ]
  },
  {
   "cell_type": "code",
   "execution_count": 39,
   "id": "12177d00",
   "metadata": {},
   "outputs": [
    {
     "data": {
      "text/html": [
       "<div>\n",
       "<style scoped>\n",
       "    .dataframe tbody tr th:only-of-type {\n",
       "        vertical-align: middle;\n",
       "    }\n",
       "\n",
       "    .dataframe tbody tr th {\n",
       "        vertical-align: top;\n",
       "    }\n",
       "\n",
       "    .dataframe thead th {\n",
       "        text-align: right;\n",
       "    }\n",
       "</style>\n",
       "<table border=\"1\" class=\"dataframe\">\n",
       "  <thead>\n",
       "    <tr style=\"text-align: right;\">\n",
       "      <th></th>\n",
       "      <th>month_num</th>\n",
       "      <th>previous_list</th>\n",
       "    </tr>\n",
       "  </thead>\n",
       "  <tbody>\n",
       "    <tr>\n",
       "      <th>0</th>\n",
       "      <td>1</td>\n",
       "      <td></td>\n",
       "    </tr>\n",
       "    <tr>\n",
       "      <th>1</th>\n",
       "      <td>2</td>\n",
       "      <td>veronicawells,cgilbert,cgilbert,cgilbert,cgilb...</td>\n",
       "    </tr>\n",
       "    <tr>\n",
       "      <th>2</th>\n",
       "      <td>3</td>\n",
       "      <td>veronicawells,veronicawells,veronicawells,cgil...</td>\n",
       "    </tr>\n",
       "    <tr>\n",
       "      <th>3</th>\n",
       "      <td>4</td>\n",
       "      <td>veronicawells,cgilbert,cgilbert,cgilbert,cgilb...</td>\n",
       "    </tr>\n",
       "    <tr>\n",
       "      <th>4</th>\n",
       "      <td>5</td>\n",
       "      <td>cgilbert,cgilbert,qhernandez,qhernandez,esmith...</td>\n",
       "    </tr>\n",
       "    <tr>\n",
       "      <th>5</th>\n",
       "      <td>6</td>\n",
       "      <td>cgilbert,cgilbert,cgilbert,cgilbert,cgilbert,c...</td>\n",
       "    </tr>\n",
       "  </tbody>\n",
       "</table>\n",
       "</div>"
      ],
      "text/plain": [
       "   month_num                                      previous_list\n",
       "0          1                                                   \n",
       "1          2  veronicawells,cgilbert,cgilbert,cgilbert,cgilb...\n",
       "2          3  veronicawells,veronicawells,veronicawells,cgil...\n",
       "3          4  veronicawells,cgilbert,cgilbert,cgilbert,cgilb...\n",
       "4          5  cgilbert,cgilbert,qhernandez,qhernandez,esmith...\n",
       "5          6  cgilbert,cgilbert,cgilbert,cgilbert,cgilbert,c..."
      ]
     },
     "execution_count": 39,
     "metadata": {},
     "output_type": "execute_result"
    }
   ],
   "source": [
    "previous_month_list"
   ]
  },
  {
   "cell_type": "markdown",
   "id": "476d5952",
   "metadata": {},
   "source": [
    " We join the above dataframe to our main raw dataframe using pandas merge.\n",
    " And apply lambda to determine if the current username exist in previous_list column "
   ]
  },
  {
   "cell_type": "code",
   "execution_count": 40,
   "id": "22612854",
   "metadata": {},
   "outputs": [],
   "source": [
    "repeater = pd.merge(df, previous_month_list, how='left', on='month_num')\n",
    "repeater['repeaters'] =repeater.apply(lambda row: row['username'] in row['previous_list'], axis=1)\n"
   ]
  },
  {
   "cell_type": "code",
   "execution_count": 41,
   "id": "e97b0073",
   "metadata": {},
   "outputs": [],
   "source": [
    "repeater = repeater.drop_duplicates(subset = ['month','username'])"
   ]
  },
  {
   "cell_type": "markdown",
   "id": "a8f08ae4",
   "metadata": {},
   "source": [
    "We applied np.select with the condition of if the column 'repeaters' is true value should be 1\n"
   ]
  },
  {
   "cell_type": "code",
   "execution_count": 42,
   "id": "51d67f01",
   "metadata": {},
   "outputs": [],
   "source": [
    "repeater['repeater_count'] = np.select([repeater['repeaters'] == True],[1],default=0)"
   ]
  },
  {
   "cell_type": "markdown",
   "id": "265669b8",
   "metadata": {},
   "source": [
    "Finally with the group by to get the monthly numbers by month"
   ]
  },
  {
   "cell_type": "code",
   "execution_count": 43,
   "id": "5947437d",
   "metadata": {},
   "outputs": [],
   "source": [
    "repeater = repeater.groupby(['month_num'])['repeater_count'].sum().reset_index()"
   ]
  },
  {
   "cell_type": "code",
   "execution_count": 44,
   "id": "bbaa4dd8",
   "metadata": {},
   "outputs": [
    {
     "data": {
      "text/html": [
       "<div>\n",
       "<style scoped>\n",
       "    .dataframe tbody tr th:only-of-type {\n",
       "        vertical-align: middle;\n",
       "    }\n",
       "\n",
       "    .dataframe tbody tr th {\n",
       "        vertical-align: top;\n",
       "    }\n",
       "\n",
       "    .dataframe thead th {\n",
       "        text-align: right;\n",
       "    }\n",
       "</style>\n",
       "<table border=\"1\" class=\"dataframe\">\n",
       "  <thead>\n",
       "    <tr style=\"text-align: right;\">\n",
       "      <th></th>\n",
       "      <th>month_num</th>\n",
       "      <th>repeater_count</th>\n",
       "    </tr>\n",
       "  </thead>\n",
       "  <tbody>\n",
       "    <tr>\n",
       "      <th>0</th>\n",
       "      <td>1</td>\n",
       "      <td>0</td>\n",
       "    </tr>\n",
       "    <tr>\n",
       "      <th>1</th>\n",
       "      <td>2</td>\n",
       "      <td>5194</td>\n",
       "    </tr>\n",
       "    <tr>\n",
       "      <th>2</th>\n",
       "      <td>3</td>\n",
       "      <td>5276</td>\n",
       "    </tr>\n",
       "    <tr>\n",
       "      <th>3</th>\n",
       "      <td>4</td>\n",
       "      <td>5229</td>\n",
       "    </tr>\n",
       "    <tr>\n",
       "      <th>4</th>\n",
       "      <td>5</td>\n",
       "      <td>5167</td>\n",
       "    </tr>\n",
       "    <tr>\n",
       "      <th>5</th>\n",
       "      <td>6</td>\n",
       "      <td>3227</td>\n",
       "    </tr>\n",
       "  </tbody>\n",
       "</table>\n",
       "</div>"
      ],
      "text/plain": [
       "   month_num  repeater_count\n",
       "0          1               0\n",
       "1          2            5194\n",
       "2          3            5276\n",
       "3          4            5229\n",
       "4          5            5167\n",
       "5          6            3227"
      ]
     },
     "execution_count": 44,
     "metadata": {},
     "output_type": "execute_result"
    }
   ],
   "source": [
    "repeater"
   ]
  },
  {
   "cell_type": "markdown",
   "id": "70888801",
   "metadata": {},
   "source": [
    "## Monthly Active numbers"
   ]
  },
  {
   "cell_type": "markdown",
   "id": "32891b55",
   "metadata": {},
   "source": [
    "drop the duplicates by month and username since we only need to know if they exists in a current month"
   ]
  },
  {
   "cell_type": "code",
   "execution_count": 45,
   "id": "ea46603e",
   "metadata": {},
   "outputs": [],
   "source": [
    "df_active_engaged = df.drop_duplicates(subset = ['month','username'])"
   ]
  },
  {
   "cell_type": "markdown",
   "id": "27b325da",
   "metadata": {},
   "source": [
    "Make a new column count with value of 1 "
   ]
  },
  {
   "cell_type": "code",
   "execution_count": 46,
   "id": "0ede9ff4",
   "metadata": {},
   "outputs": [
    {
     "name": "stderr",
     "output_type": "stream",
     "text": [
      "C:\\Users\\Kenneth\\AppData\\Local\\Temp\\ipykernel_12384\\3237565106.py:1: SettingWithCopyWarning: \n",
      "A value is trying to be set on a copy of a slice from a DataFrame.\n",
      "Try using .loc[row_indexer,col_indexer] = value instead\n",
      "\n",
      "See the caveats in the documentation: https://pandas.pydata.org/pandas-docs/stable/user_guide/indexing.html#returning-a-view-versus-a-copy\n",
      "  df_active_engaged['count'] = 1\n"
     ]
    }
   ],
   "source": [
    "df_active_engaged['count'] = 1"
   ]
  },
  {
   "cell_type": "markdown",
   "id": "5f5a8775",
   "metadata": {},
   "source": [
    "First is get the unique values of  month_num column and apply it in loop.\n",
    "Each value represents the month number of the month \n",
    "1 for January 2 for Februany and so on..... \n",
    "We used the logic of <= month_num to determine wheter if they exists in current month and previous month\n",
    "\n",
    "Then we group by by username inside the loop to get if they exists in the current month. \n",
    "Then we asign x for column[month_num]\n",
    "\n",
    "then we append it to the blank list we created. which is frame = []\n"
   ]
  },
  {
   "cell_type": "code",
   "execution_count": 47,
   "id": "caffd706",
   "metadata": {},
   "outputs": [
    {
     "name": "stderr",
     "output_type": "stream",
     "text": [
      "C:\\Users\\Kenneth\\AppData\\Local\\Temp\\ipykernel_12384\\2287691961.py:4: FutureWarning: The default value of numeric_only in DataFrameGroupBy.sum is deprecated. In a future version, numeric_only will default to False. Either specify numeric_only or select only columns which should be valid for the function.\n",
      "  df_ = df_.groupby(['username']).sum().reset_index()\n",
      "C:\\Users\\Kenneth\\AppData\\Local\\Temp\\ipykernel_12384\\2287691961.py:4: FutureWarning: The default value of numeric_only in DataFrameGroupBy.sum is deprecated. In a future version, numeric_only will default to False. Either specify numeric_only or select only columns which should be valid for the function.\n",
      "  df_ = df_.groupby(['username']).sum().reset_index()\n",
      "C:\\Users\\Kenneth\\AppData\\Local\\Temp\\ipykernel_12384\\2287691961.py:4: FutureWarning: The default value of numeric_only in DataFrameGroupBy.sum is deprecated. In a future version, numeric_only will default to False. Either specify numeric_only or select only columns which should be valid for the function.\n",
      "  df_ = df_.groupby(['username']).sum().reset_index()\n",
      "C:\\Users\\Kenneth\\AppData\\Local\\Temp\\ipykernel_12384\\2287691961.py:4: FutureWarning: The default value of numeric_only in DataFrameGroupBy.sum is deprecated. In a future version, numeric_only will default to False. Either specify numeric_only or select only columns which should be valid for the function.\n",
      "  df_ = df_.groupby(['username']).sum().reset_index()\n",
      "C:\\Users\\Kenneth\\AppData\\Local\\Temp\\ipykernel_12384\\2287691961.py:4: FutureWarning: The default value of numeric_only in DataFrameGroupBy.sum is deprecated. In a future version, numeric_only will default to False. Either specify numeric_only or select only columns which should be valid for the function.\n",
      "  df_ = df_.groupby(['username']).sum().reset_index()\n",
      "C:\\Users\\Kenneth\\AppData\\Local\\Temp\\ipykernel_12384\\2287691961.py:4: FutureWarning: The default value of numeric_only in DataFrameGroupBy.sum is deprecated. In a future version, numeric_only will default to False. Either specify numeric_only or select only columns which should be valid for the function.\n",
      "  df_ = df_.groupby(['username']).sum().reset_index()\n"
     ]
    }
   ],
   "source": [
    "frame = []\n",
    "for x in df_active_engaged['month_num'].unique():\n",
    "    df_ = df_active_engaged[df_active_engaged['month_num']<= x]\n",
    "    df_ = df_.groupby(['username']).sum().reset_index()\n",
    "    df_['month_num'] = x\n",
    "#     df_ = df[['month_num','username','count']]\n",
    "    frame.append(df_)\n",
    "                       \n",
    "    "
   ]
  },
  {
   "cell_type": "markdown",
   "id": "af194c98",
   "metadata": {},
   "source": [
    "We convert the blank frame which has already the data of the loop we created. Using pd.concat it convert the list to dataframe"
   ]
  },
  {
   "cell_type": "code",
   "execution_count": 48,
   "id": "f2707dc1",
   "metadata": {},
   "outputs": [],
   "source": [
    "df_active_engaged = pd.concat(frame)"
   ]
  },
  {
   "cell_type": "code",
   "execution_count": 49,
   "id": "12f9f309",
   "metadata": {},
   "outputs": [],
   "source": [
    "df_active_engaged = df_active_engaged[['month_num','username','count']]"
   ]
  },
  {
   "cell_type": "markdown",
   "id": "ba5bf48e",
   "metadata": {},
   "source": [
    "np.select is applied to determine whether they exists in the current month and the last previous month.\n",
    "To check if they are active in everymonth, the column count should be equal to the month_num "
   ]
  },
  {
   "cell_type": "code",
   "execution_count": null,
   "id": "4874d05b",
   "metadata": {},
   "outputs": [],
   "source": []
  },
  {
   "cell_type": "code",
   "execution_count": null,
   "id": "6e342cb2",
   "metadata": {},
   "outputs": [],
   "source": [
    "df_active_engaged['engaged'] = np.select([(df_active_engaged['month_num'] - df_active_engaged['count']== 0) & (df_active_engaged['month_num'] != 1)],[1],default=0)"
   ]
  },
  {
   "cell_type": "code",
   "execution_count": null,
   "id": "327b432d",
   "metadata": {},
   "outputs": [],
   "source": [
    "df_active_engaged = df_active_engaged.groupby(['month_num'])['engaged'].sum().reset_index()"
   ]
  },
  {
   "cell_type": "code",
   "execution_count": null,
   "id": "e3c7bc3b",
   "metadata": {},
   "outputs": [],
   "source": [
    "df_active_engaged"
   ]
  },
  {
   "cell_type": "markdown",
   "id": "e7c8d565",
   "metadata": {},
   "source": [
    "## Inactive List"
   ]
  },
  {
   "cell_type": "markdown",
   "id": "5a06fd88",
   "metadata": {},
   "source": [
    "Drop the duplicate by month_num and username"
   ]
  },
  {
   "cell_type": "code",
   "execution_count": null,
   "id": "6f3cf9d7",
   "metadata": {},
   "outputs": [],
   "source": [
    "df_inactive = df.drop_duplicates(subset = ['month_num','username'])"
   ]
  },
  {
   "cell_type": "code",
   "execution_count": null,
   "id": "a6b865b3",
   "metadata": {},
   "outputs": [],
   "source": [
    "df_inactive = df_inactive[['month_num','username']]"
   ]
  },
  {
   "cell_type": "markdown",
   "id": "9f3bb505",
   "metadata": {},
   "source": [
    "\n",
    "\n",
    "We applied same logic from the active number list. \n",
    "\n",
    "Get the unique value of month_num column.\n",
    "\n",
    "Apply it to loop.\n",
    "x = month_num\n",
    "\n",
    "First we assign\n",
    "    df_a as active in the current month. We sliced the frame by the current month_num.\n",
    "    df_i as the inactive list , we sliced the frame by the month_num < x which is the current month_num\n",
    "    To avoid duplicate we drop duplicate by username\n",
    "    Then we check if the username  from the df_i does not exists in df_a(active from prevous months) using \"isin\" . the operator \"~\" returns the opposite value of the logic we applied. \n",
    "    Then we do the group by\n",
    "    and comes up with the iactive count by month"
   ]
  },
  {
   "cell_type": "code",
   "execution_count": null,
   "id": "29e46ef3",
   "metadata": {},
   "outputs": [],
   "source": [
    "inactive_frame = []\n",
    "for x in df_inactive['month_num'].unique():\n",
    "    \n",
    "    df_a = df_inactive[df_inactive['month_num'] == x]\n",
    "    df_i = df_inactive[df_inactive['month_num']< x]\n",
    "    df_i = df_i.drop_duplicates(subset = 'username')\n",
    "    df_i = df_i[~df_i['username'].isin(df_a['username'])]\n",
    "    df_i = df_i['username'].count()\n",
    "    df_a = df_a.groupby(['month_num']).count().reset_index()\n",
    "    df_a['inactive'] = df_i\n",
    "    df_a['month_num_'] = x\n",
    "\n",
    "    \n",
    "#     df_ = df[['month_num','username','count']]\n",
    "    inactive_frame.append(df_a)\n",
    "                       "
   ]
  },
  {
   "cell_type": "code",
   "execution_count": null,
   "id": "d79517b3",
   "metadata": {},
   "outputs": [],
   "source": [
    "inactive_frame = pd.concat(inactive_frame)"
   ]
  },
  {
   "cell_type": "code",
   "execution_count": null,
   "id": "848ed084",
   "metadata": {},
   "outputs": [],
   "source": [
    "inactive_frame = inactive_frame[['month_num_','inactive','username']]"
   ]
  },
  {
   "cell_type": "code",
   "execution_count": null,
   "id": "af37a543",
   "metadata": {},
   "outputs": [],
   "source": [
    "inactive_frame.rename(columns ={'month_num_': 'month_num','username':'monthly_customer_count'},inplace=True)"
   ]
  },
  {
   "cell_type": "code",
   "execution_count": null,
   "id": "0dbf1c08",
   "metadata": {},
   "outputs": [],
   "source": [
    "inactive_frame"
   ]
  },
  {
   "cell_type": "markdown",
   "id": "54b65765",
   "metadata": {},
   "source": [
    "# Summary"
   ]
  },
  {
   "cell_type": "markdown",
   "id": "dd5bff60",
   "metadata": {},
   "source": [
    "Merge all the frame we created earlier"
   ]
  },
  {
   "cell_type": "code",
   "execution_count": null,
   "id": "ba7555eb",
   "metadata": {},
   "outputs": [],
   "source": [
    "summary = monthly_numbers.merge(repeater,on='month_num',how='left')"
   ]
  },
  {
   "cell_type": "code",
   "execution_count": null,
   "id": "ff3277e5",
   "metadata": {},
   "outputs": [],
   "source": [
    "summary = summary.merge(df_active_engaged,on='month_num',how='left')"
   ]
  },
  {
   "cell_type": "code",
   "execution_count": null,
   "id": "4a0c03c4",
   "metadata": {},
   "outputs": [],
   "source": [
    "summary = summary.merge(inactive_frame,on='month_num',how='left')"
   ]
  },
  {
   "cell_type": "code",
   "execution_count": null,
   "id": "b363d765",
   "metadata": {},
   "outputs": [],
   "source": [
    "summary = summary.sort_values(['month_num'],ascending=True)"
   ]
  },
  {
   "cell_type": "markdown",
   "id": "47f8c48d",
   "metadata": {},
   "source": [
    "slice the frame and only get the column we needed"
   ]
  },
  {
   "cell_type": "code",
   "execution_count": null,
   "id": "7198c5cc",
   "metadata": {},
   "outputs": [],
   "source": [
    "summary = summary[['month', 'transaction_value', 'number_of_purchases',\n",
    "\n",
    "                   'repeater_count', 'engaged', 'inactive', 'monthly_customer_count']]"
   ]
  },
  {
   "cell_type": "code",
   "execution_count": null,
   "id": "e01be8c6",
   "metadata": {},
   "outputs": [],
   "source": []
  },
  {
   "cell_type": "code",
   "execution_count": null,
   "id": "59a66555",
   "metadata": {},
   "outputs": [],
   "source": []
  },
  {
   "cell_type": "code",
   "execution_count": null,
   "id": "225a4fba",
   "metadata": {},
   "outputs": [],
   "source": []
  },
  {
   "cell_type": "code",
   "execution_count": null,
   "id": "f7310f72",
   "metadata": {},
   "outputs": [],
   "source": [
    "summary"
   ]
  },
  {
   "cell_type": "markdown",
   "id": "342999ae",
   "metadata": {},
   "source": [
    "### Slice the frame with the columns we only want to show in the visualization table"
   ]
  },
  {
   "cell_type": "code",
   "execution_count": null,
   "id": "7c846ff6",
   "metadata": {},
   "outputs": [],
   "source": [
    "df_by_product = df_by_product[['month','product_name','number_of_purchases','total_amount']]"
   ]
  },
  {
   "cell_type": "code",
   "execution_count": null,
   "id": "11e6a536",
   "metadata": {},
   "outputs": [],
   "source": [
    "df_by_product.rename(columns={'month':'Month','product_name':\"Product Name\",\"number_of_purchases\":\"Number Of Purchases\",'total_amount':'Total Amount Sold'},inplace=True)"
   ]
  },
  {
   "cell_type": "code",
   "execution_count": null,
   "id": "5764846e",
   "metadata": {},
   "outputs": [],
   "source": [
    "fig = ff.create_table(df_by_product)\n",
    "fig.show()"
   ]
  },
  {
   "cell_type": "code",
   "execution_count": null,
   "id": "fbd94afa",
   "metadata": {},
   "outputs": [],
   "source": []
  }
 ],
 "metadata": {
  "kernelspec": {
   "display_name": "Python 3 (ipykernel)",
   "language": "python",
   "name": "python3"
  },
  "language_info": {
   "codemirror_mode": {
    "name": "ipython",
    "version": 3
   },
   "file_extension": ".py",
   "mimetype": "text/x-python",
   "name": "python",
   "nbconvert_exporter": "python",
   "pygments_lexer": "ipython3",
   "version": "3.11.2"
  }
 },
 "nbformat": 4,
 "nbformat_minor": 5
}
